{
  "nbformat": 4,
  "nbformat_minor": 0,
  "metadata": {
    "colab": {
      "provenance": []
    },
    "kernelspec": {
      "name": "python3",
      "display_name": "Python 3"
    },
    "language_info": {
      "name": "python"
    }
  },
  "cells": [
    {
      "cell_type": "markdown",
      "source": [
        "TALLER 2\n"
      ],
      "metadata": {
        "id": "EuELsRp4lkTQ"
      }
    },
    {
      "cell_type": "markdown",
      "source": [
        "I. Diseña un programa en PYTHON para cada uno de los problemas\n",
        "que se te plantean. "
      ],
      "metadata": {
        "id": "mXf2UKBAl3do"
      }
    },
    {
      "cell_type": "markdown",
      "source": [
        "1. Un vendedor recibe un sueldo base más un 10% extra por\n",
        "comisión de sus ventas, el vendedor desea saber cuánto\n",
        "dinero obtendrá por concepto de comisiones por las tres\n",
        "ventas que realiza en el mes y el total que recibirá en\n",
        "el mes tomando en cuenta su sueldo base y comisiones."
      ],
      "metadata": {
        "id": "9WPG6uwJmA2Z"
      }
    },
    {
      "cell_type": "code",
      "source": [
        "# Variable sueldo base\n",
        "sueldo = float(input(\"\\nEl sueldo base es: $ \"))\n",
        "# Ventas en el mes\n",
        "venta1 = float(input(\"\\nCuanto fue el total de la venta 1: $ \"))\n",
        "venta2 = float(input(\"\\nCuanto fue el total de la venta 2: $ \"))\n",
        "venta3 = float(input(\"\\nCuanto fue el total de la venta 3: $ \"))\n",
        "# Total de las ventas en el mes\n",
        "venta = (venta1 + venta2 + venta3)\n",
        "# El porcentaje de las ventas del mes\n",
        "porcentaje = venta * 0.10\n",
        "# Total de sueldo en el mes\n",
        "total = sueldo + porcentaje\n",
        "print(\"\\nTotal de sueldo al mes es= ${:,.0f}\".format(total))"
      ],
      "metadata": {
        "colab": {
          "base_uri": "https://localhost:8080/"
        },
        "id": "0SDqEVa_mF8g",
        "outputId": "b270c164-968f-4bb1-f270-1c764f991a4e"
      },
      "execution_count": null,
      "outputs": [
        {
          "output_type": "stream",
          "name": "stdout",
          "text": [
            "\n",
            "El sueldo base es: $ 1800000\n",
            "\n",
            "Cuanto fue el total de la venta 1: $ 456550\n",
            "\n",
            "Cuanto fue el total de la venta 2: $ 698700\n",
            "\n",
            "Cuanto fue el total de la venta 3: $ 1050500\n",
            "\n",
            "Total de sueldo al mes es= $2,020,575\n"
          ]
        }
      ]
    },
    {
      "cell_type": "markdown",
      "source": [],
      "metadata": {
        "id": "Q1M2PInl30CE"
      }
    },
    {
      "cell_type": "markdown",
      "source": [
        "2. Una tienda ofrece un descuento del 15% sobre el total\n",
        "de la compra y un cliente desea saber cuánto deberá\n",
        "pagar finalmente por su compra."
      ],
      "metadata": {
        "id": "0pIr9nyOsnrO"
      }
    },
    {
      "cell_type": "code",
      "source": [
        "# Variable total de la compra\n",
        "compra = float(input(\"Cuanto es el total de la compra sin el descuento: $ \"))\n",
        "# Caslculo del porcentaje de la compra\n",
        "porcentaje = compra * 0.15\n",
        "# Resta del porcentaje de la compra\n",
        "total = compra - porcentaje\n",
        "# Calculo total de la compra\n",
        "print(\"El descuento de la compra es= ${:,.0f} y el precio final de la compra es= ${:,.0f}\".format(porcentaje, total))"
      ],
      "metadata": {
        "colab": {
          "base_uri": "https://localhost:8080/"
        },
        "id": "idugKC6Rsvp2",
        "outputId": "63a80b7d-adfe-4d16-913d-03a7796ab2af"
      },
      "execution_count": null,
      "outputs": [
        {
          "output_type": "stream",
          "name": "stdout",
          "text": [
            "Cuanto es el total de la compra sin el descuento: $ 935650\n",
            "El descuento de la compra es= $140,348 y el precio final de la compra es= $795,302\n"
          ]
        }
      ]
    },
    {
      "cell_type": "markdown",
      "source": [
        "3. Un alumno desea saber cuál será su calificación final en\n",
        "la materia de Algoritmos. Dicha calificación se compone\n",
        "de tres exámenes parciales."
      ],
      "metadata": {
        "id": "FMccjl2azwGd"
      }
    },
    {
      "cell_type": "code",
      "source": [
        "# Variable de los examenes parciales del alumno\n",
        "parcial1 = float(input(\"\\nDigite el examen parcial 1: \"))\n",
        "parcial2 = float(input(\"\\nDigite el examen parcial 2: \"))\n",
        "parcial3 = float(input(\"\\nDigite el examen parcial 3: \"))\n",
        "promedio = round((parcial1 + parcial2 + parcial3) / 3, 2)\n",
        "print(f\"\\nCalificacion final es= {promedio}\")"
      ],
      "metadata": {
        "colab": {
          "base_uri": "https://localhost:8080/"
        },
        "id": "l3ejWmGPzzoO",
        "outputId": "7329e6aa-d12e-4e22-f4d9-0a5b87ed4d80"
      },
      "execution_count": null,
      "outputs": [
        {
          "output_type": "stream",
          "name": "stdout",
          "text": [
            "\n",
            "Digite el examen parcial 1: 7.5\n",
            "\n",
            "Digite el examen parcial 2: 3.9\n",
            "\n",
            "Digite el examen parcial 3: 8\n",
            "\n",
            "Calificacion final es= 6.47\n"
          ]
        }
      ]
    },
    {
      "cell_type": "markdown",
      "source": [
        "4. Un maestro desea saber qué porcentaje de hombres y que\n",
        "porcentaje de mujeres hay en un grupo de estudiantes."
      ],
      "metadata": {
        "id": "UU4QAnyU39-M"
      }
    },
    {
      "cell_type": "code",
      "source": [
        "# Variable de estudiantes\n",
        "hombres = int(input(\"\\n¿Cuantos alumnos hombres hay?: \"))\n",
        "mujeres = int(input(\"¿Cuantas alumnas mujeres hay?: \"))\n",
        "# Suma  de estudiantes\n",
        "estudiantes = hombres + mujeres\n",
        "# Porcentaje de mujeres\n",
        "mujeres1 = ((mujeres * 100) / estudiantes)\n",
        "# Porcentaje de hombres\n",
        "hombres1 = ((hombres * 100) / estudiantes)\n",
        "# Total de estudiantes\n",
        "print(\"\\nTotal de estudiantes es= {}\".format(estudiantes))\n",
        "# Porcentaje total de hombres\n",
        "print(\"\\nPorcentaje total de hombres es= {:,.2f}\".format(hombres1))\n",
        "# Porcentaje total de mujeres\n",
        "print(\"Porcentaje total de mujeres es= {:,.2f}\".format(mujeres1))"
      ],
      "metadata": {
        "colab": {
          "base_uri": "https://localhost:8080/"
        },
        "id": "aHbjnOz1Bliy",
        "outputId": "c52df5fe-fd1d-48cd-9aa2-6a36a007ba97"
      },
      "execution_count": null,
      "outputs": [
        {
          "output_type": "stream",
          "name": "stdout",
          "text": [
            "\n",
            "¿Cuantos alumnos hombres hay?: 26\n",
            "¿Cuantas alumnas mujeres hay?: 31\n",
            "\n",
            "Total de estudiantes es= 57\n",
            "\n",
            "Porcentaje total de hombres es= 45.61\n",
            "Porcentaje total de mujeres es= 54.39\n"
          ]
        }
      ]
    }
  ]
}