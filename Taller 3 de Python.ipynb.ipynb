{
  "nbformat": 4,
  "nbformat_minor": 0,
  "metadata": {
    "colab": {
      "provenance": []
    },
    "kernelspec": {
      "name": "python3",
      "display_name": "Python 3"
    },
    "language_info": {
      "name": "python"
    }
  },
  "cells": [
    {
      "cell_type": "markdown",
      "source": [
        "  TALLER 3"
      ],
      "metadata": {
        "id": "hffaQSyYe91T"
      }
    },
    {
      "cell_type": "markdown",
      "source": [
        "Dando continuidad con la primera entrega del proyecto, en esta oportunidad el estudiante debe realizar las siguientes validaciones utilizando la sentencia condicional IF."
      ],
      "metadata": {
        "id": "SBRSJZQafHdL"
      }
    },
    {
      "cell_type": "markdown",
      "source": [
        "1. Si el empleado es mayor de 55 años disfrutará de un bono de prepensión correspondiente al 5% de su sueldo básico."
      ],
      "metadata": {
        "id": "LB5WSHSFfIrS"
      }
    },
    {
      "cell_type": "code",
      "source": [
        "# Variable sueldo basico\n",
        "sueldo = float(input(\"¿Cuanto es el sueldo basico: $ \"))\n",
        "# Porcentaje del sueldo\n",
        "porct = sueldo * 0.05\n",
        "print(\"\\nEl bono de prepension es= ${:,.0f}\".format(porct))\n",
        "# Variable edad\n",
        "edad = int(input(\"\\nDigite su edad \"))\n",
        "if edad > 55:\n",
        "  print(\"\\nRecibe el bono de prepension\")\n",
        "else:\n",
        " print(\"\\nNo recibe el bono de prepension\")"
      ],
      "metadata": {
        "colab": {
          "base_uri": "https://localhost:8080/"
        },
        "id": "n6pXk2LjlH_4",
        "outputId": "9f51c6f3-49bb-4bcf-cafd-beee0b731304"
      },
      "execution_count": 51,
      "outputs": [
        {
          "output_type": "stream",
          "name": "stdout",
          "text": [
            "¿Cuanto es el sueldo basico: $ 2950500\n",
            "\n",
            "El bono de prepension es= $147,525\n",
            "\n",
            "Digite su edad 56\n",
            "\n",
            "Recibe el bono de prepension\n"
          ]
        }
      ]
    },
    {
      "cell_type": "markdown",
      "source": [
        "2. Si el empleado es casado y tiene hijos se le otorgará un paseo cada diciembre"
      ],
      "metadata": {
        "id": "K3vSRs8gsH_k"
      }
    },
    {
      "cell_type": "code",
      "source": [
        "# Variable estado civil\n",
        "empleado = input(\"Digite su estado civil: \")\n",
        "emple = \"casado\"\n",
        "# Variable hijos\n",
        "hijos = int(input(\"Digite cuantos hijos tiene: \"))\n",
        "# Paseo en diciembre\n",
        "if empleado == emple and hijos > 0:\n",
        "  print(\"\\nGana paseo en Diciembre\")\n",
        "else:\n",
        "  print(\"\\nNo gana paseo en diciembre\")"
      ],
      "metadata": {
        "colab": {
          "base_uri": "https://localhost:8080/"
        },
        "id": "6B_KuPXXxNSs",
        "outputId": "a13536a0-f92d-412d-a5a1-3aaedea92843"
      },
      "execution_count": 53,
      "outputs": [
        {
          "output_type": "stream",
          "name": "stdout",
          "text": [
            "Digite su estado civil: casado\n",
            "Digite cuantos hijos tiene: 3\n",
            "\n",
            "Gana paseo en Diciembre\n"
          ]
        }
      ]
    },
    {
      "cell_type": "markdown",
      "source": [
        "3. Si el sueldo básico está entre 1000000 y 1500000 tendrá una comisión del 2% sobre el valor del sueldo; Si el sueldo básico está entre 1500001 y 2000000 tendrá una comisión del 5% sobre el valor del sueldo; para todos los demás casos no habrá comisión."
      ],
      "metadata": {
        "id": "ZV2VQSWX3LVO"
      }
    },
    {
      "cell_type": "code",
      "source": [
        "# Variable sueldo basico\n",
        "sueldo = float(input(\"Digite su sueldo basico $ \"))\n",
        "# Sueldo basico 1\n",
        "if sueldo >= 1000000 and sueldo <= 1500000:\n",
        "# Comision 2% sueldo basico 1\n",
        "  porct = sueldo * 0.02\n",
        "  total = sueldo + porct\n",
        "  print(\"Recibe comision del 2%\")\n",
        "  print(\"\\nTotal comision del sueldo es= ${:,.0f} y el sueldo total seria = ${:,.0f}\".format(porct, total))\n",
        "# Sueldo basico 2\n",
        "elif sueldo >= 1500001 and sueldo <= 2000000:\n",
        "# Comision 5% sueldo basico 2\n",
        "  porct1 = sueldo * 0.05\n",
        "  total1 = sueldo + porct1\n",
        "  print(\"Recibe comision del 5%\")\n",
        "  print(\"\\nTotal comision del sueldo es= ${:,.0f} y el sueldo total seria = ${:,.0f}\".format(porct1, total1))\n",
        "else:\n",
        "  print(\"\\nNo recibe comision\")"
      ],
      "metadata": {
        "colab": {
          "base_uri": "https://localhost:8080/"
        },
        "id": "zSX477HOLnzR",
        "outputId": "da7eaa76-5741-4c4e-960a-ebc877b02d68"
      },
      "execution_count": 84,
      "outputs": [
        {
          "output_type": "stream",
          "name": "stdout",
          "text": [
            "Digite su sueldo basico $ 1355000\n",
            "Recibe comision del 2%\n",
            "\n",
            "Total comision del sueldo es= $27,100 y el sueldo total seria = $1,382,100\n"
          ]
        }
      ]
    },
    {
      "cell_type": "markdown",
      "source": [
        "4. Si el empleado trabajó más de 20 días al mes y su sueldo es menor a 1000000 tendrá derecho a un bono de alimentación."
      ],
      "metadata": {
        "id": "T67w_hjsU1Vn"
      }
    },
    {
      "cell_type": "code",
      "source": [
        "# Variable dias trabajados\n",
        "dias = int(input(\"Digite los dias trabajados en el mes: \"))\n",
        "# Variable sueldo\n",
        "sueldo = float(input(\"Digite total sueldo mes: $ \"))\n",
        "# Variable bono alimentacion\n",
        "if dias > 20:\n",
        " print(\"Derecho al bono alimentario\")\n",
        "elif dias < 21:\n",
        "  print(\"No recibe bono alimentario\")\n",
        "elif sueldo < 1000000:\n",
        "  print(\"Derecho al bono alimentario\")\n",
        "else:\n",
        "  print(\"No recibe bono alimentario\")"
      ],
      "metadata": {
        "colab": {
          "base_uri": "https://localhost:8080/"
        },
        "id": "IHNidxT1U7Gc",
        "outputId": "289f5944-d5ec-4557-c1a7-6bdbf9f0e83f"
      },
      "execution_count": 117,
      "outputs": [
        {
          "output_type": "stream",
          "name": "stdout",
          "text": [
            "Digite los dias trabajados en el mes: 21\n",
            "Digite total sueldo mes: $ 999999\n",
            "Derecho a bono alimentario\n"
          ]
        }
      ]
    }
  ]
}