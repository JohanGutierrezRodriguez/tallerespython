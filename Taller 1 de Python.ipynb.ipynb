{
  "nbformat": 4,
  "nbformat_minor": 0,
  "metadata": {
    "colab": {
      "provenance": []
    },
    "kernelspec": {
      "name": "python3",
      "display_name": "Python 3"
    },
    "language_info": {
      "name": "python"
    }
  },
  "cells": [
    {
      "cell_type": "code",
      "execution_count": null,
      "metadata": {
        "colab": {
          "base_uri": "https://localhost:8080/"
        },
        "id": "c5UzdEvRs9Wq",
        "outputId": "6ab6ac4f-263c-4c0d-f1f5-f117f8870dad"
      },
      "outputs": [
        {
          "output_type": "stream",
          "name": "stdout",
          "text": [
            "Hola mundo!!!\n"
          ]
        }
      ],
      "source": [
        "print(\"Hola mundo!!!\")"
      ]
    },
    {
      "cell_type": "markdown",
      "source": [
        "Taller"
      ],
      "metadata": {
        "id": "Tecl_ZMgrv01"
      }
    },
    {
      "cell_type": "code",
      "source": [
        "No_identificacion = input(\"Digite su documento: \")\n",
        "print(No_identificacion)\n",
        "Nombres_per = input(\"Digite su nombre: \")\n",
        "print(Nombres_per)\n",
        "Apellido_per =input(\"Digite su apellido: \")\n",
        "print(Apellido_per)\n",
        "Direccion_per = input(\"Digite su direccion: \")\n",
        "print(Direccion_per)\n",
        "Telefono_per = input(\"Digite su telefono: \")\n",
        "print(Telefono_per)\n",
        "Edad_per = input(\"Digite su edad: \")\n",
        "print(Edad_per)\n",
        "Estado_civil = input(\"Digite su estado civil: \")\n",
        "print(Estado_civil)\n",
        "Numero_de_hijos = input(\"Digite su numero de hijos: \")\n",
        "print(Numero_de_hijos)\n",
        "Estatura_en_centimetro = input(\"Digite su estatura en centimetros: \")\n",
        "print(Estatura_en_centimetro)\n",
        "Fecha_de_contratacion = input(\"Digite la fecha de contratacion (Dia/Mes/año): \")\n",
        "print(Fecha_de_contratacion)\n",
        "Sueldo_basico = input(\"Digite su sueldo basico: \")\n",
        "print(Sueldo_basico)\n",
        "Dias_laborados = input(\"Digite sus dias laborados: \")\n",
        "print(Dias_laborados)"
      ],
      "metadata": {
        "id": "GV8PrApIrzK8",
        "colab": {
          "base_uri": "https://localhost:8080/"
        },
        "outputId": "88d11e71-d58b-4967-9de1-f4f905c530fa"
      },
      "execution_count": null,
      "outputs": [
        {
          "output_type": "stream",
          "name": "stdout",
          "text": [
            "Digite su documento: 35488050\n",
            "35488050\n",
            "Digite su nombre: Andres Manuel\n",
            "Andres Manuel\n",
            "Digite su apellido: Perez Garzon\n",
            "Perez Garzon\n",
            "Digite su direccion: Diagonal 1 Este # 35-11\n",
            "Diagonal 1 Este # 35-11\n",
            "Digite su telefono: 305-4238563\n",
            "305-4238563\n",
            "Digite su edad: 35\n",
            "35\n",
            "Digite su estado civil: Soltero\n",
            "Soltero\n",
            "Digite su numero de hijos: 2\n",
            "2\n",
            "Digite su estatura en centimetros: 180 cm\n",
            "180 cm\n",
            "Digite la fecha de contratacion (Dia/Mes/año): 25/11/2023\n",
            "25/11/2023\n",
            "Digite su sueldo basico: $2.000.000\n",
            "$2.000.000\n",
            "Digite sus dias laborados: 15 dias\n",
            "15 dias\n"
          ]
        }
      ]
    },
    {
      "cell_type": "markdown",
      "source": [
        "Variables"
      ],
      "metadata": {
        "id": "UBkwus0WzW-9"
      }
    },
    {
      "cell_type": "code",
      "source": [
        "# Variable para almacenar el no. Identificacion\n",
        "Identificacion = \"35488050\"\n",
        "# Variable para almacenar el Nombres\n",
        "Nombres = \"Andres Manuel\"\n",
        "# Variable para almacenar el Apellidos\n",
        "Apellidos = \"Perez Garzon\"\n",
        "# Variable para almacenar la Direccion\n",
        "Direccion =\"Diagonal 2 Este No. 35-22\"\n",
        "# Variable para almacenar Telefono\n",
        "Telefono = \"3054238563\"\n",
        "# Variable para almacenar Edad\n",
        "Edad = \"35\"\n",
        "# Variable para almacenar Estado civil\n",
        "Estado_civil = \"Soltero\"\n",
        "# Variable para almacenar Numero de hijos\n",
        "Hijos = \"2\"\n",
        "# Variable para almacenar Estatura en centimetros\n",
        "Estatura = \"180 cm\"\n",
        "# Variable para almacenar Fecha de contratacion (Dia/Mes/Año)\n",
        "Fecha_contrtacion = \"25/11/2023\"\n",
        "# Variable para almacenar Sueldo basico\n",
        "Sueldo_basico = \"2.000.000\"\n",
        "# Variable para almacenar Dias laborados\n",
        "Dias_laborados = \"15 Dias\"\n",
        "print(Identificacion)\n",
        "print(Nombres)\n",
        "print(Apellidos)\n",
        "print(Direccion)\n",
        "print(Telefono)\n",
        "print(Edad)\n",
        "print(Estado_civil)\n",
        "print(Hijos)\n",
        "print(Estatura)\n",
        "print(Fecha_contrtacion)\n",
        "print(Sueldo_basico)\n",
        "print(Dias_laborados)"
      ],
      "metadata": {
        "id": "cOo-3BRtzj3_",
        "colab": {
          "base_uri": "https://localhost:8080/"
        },
        "outputId": "c2030c67-939a-432b-953e-136e62b6e162"
      },
      "execution_count": null,
      "outputs": [
        {
          "output_type": "stream",
          "name": "stdout",
          "text": [
            "35488050\n",
            "Andres Manuel\n",
            "Perez Garzon\n",
            "Diagonal 2 Este No. 35-22\n",
            "3054238563\n",
            "35\n",
            "Soltero\n",
            "2\n",
            "180 cm\n",
            "25/11/2023\n",
            "2.000.000\n",
            "15 Dias\n"
          ]
        }
      ]
    }
  ]
}