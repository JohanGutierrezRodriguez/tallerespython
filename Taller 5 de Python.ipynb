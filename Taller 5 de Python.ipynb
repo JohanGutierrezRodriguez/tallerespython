{
  "nbformat": 4,
  "nbformat_minor": 0,
  "metadata": {
    "colab": {
      "provenance": []
    },
    "kernelspec": {
      "name": "python3",
      "display_name": "Python 3"
    },
    "language_info": {
      "name": "python"
    }
  },
  "cells": [
    {
      "cell_type": "markdown",
      "source": [
        "**TALLER**\n",
        "\n",
        "Es integrar Ciclos y Funciones en el código del Taller 1 y Taller 2."
      ],
      "metadata": {
        "id": "CYHZ-lANMACN"
      }
    },
    {
      "cell_type": "markdown",
      "source": [
        "**Taller 1**"
      ],
      "metadata": {
        "id": "2Ij1uA_Igv4O"
      }
    },
    {
      "cell_type": "code",
      "source": [
        "ident = \"si\"\n",
        "while ident == \"si\" or ident == \"SI\" or ident == \"Si\" or ident == \"yes\":\n",
        "    ident1 = int(input(\"Digite su numero de documento: \"))\n",
        "    print(\" \".format(ident))\n",
        "    ident = input(\"Desea digitar otro numero de documento: \")"
      ],
      "metadata": {
        "colab": {
          "base_uri": "https://localhost:8080/"
        },
        "id": "_-8_QqURXzep",
        "outputId": "205442a4-0edb-4241-cb3f-165e669c263f"
      },
      "execution_count": null,
      "outputs": [
        {
          "name": "stdout",
          "output_type": "stream",
          "text": [
            "Digite su numero de documento: 55321456\n",
            " \n",
            "Desea digitar otro numero de documento: si\n",
            "Digite su numero de documento: 65321654\n",
            " \n",
            "Desea digitar otro numero de documento: no\n"
          ]
        }
      ]
    },
    {
      "cell_type": "code",
      "source": [
        "nomb = \"si\"\n",
        "while nomb == \"si\" or nomb == \"SI\" or nomb == \"Si\" or nomb == \"yes\":\n",
        "    nomb1 = input(\"Digite su nombre: \")\n",
        "    print(\"\".format(nomb))\n",
        "    nomb = input(\"Desea digitar otro nombre: \")"
      ],
      "metadata": {
        "colab": {
          "base_uri": "https://localhost:8080/"
        },
        "id": "gPHRHAyBg2G2",
        "outputId": "9b0706a1-6b60-4e1d-cbd4-f966af498aa0"
      },
      "execution_count": null,
      "outputs": [
        {
          "name": "stdout",
          "output_type": "stream",
          "text": [
            "Digite su nombre: Andres\n",
            "\n",
            "Desea digitar otro nombre: si\n",
            "Digite su nombre: Sebastian\n",
            "\n",
            "Desea digitar otro nombre: NO\n"
          ]
        }
      ]
    },
    {
      "cell_type": "code",
      "source": [
        "apell = \"si\"\n",
        "while apell == \"si\" or apell == \"SI\" or apell == \"Si\" or apell == \"yes\":\n",
        "    apell1 = input(\"Digite su apellido: \")\n",
        "    print(\"\".format(apell))\n",
        "    apell = input(\"Desea digitar otro apellido: \")"
      ],
      "metadata": {
        "colab": {
          "base_uri": "https://localhost:8080/"
        },
        "id": "9Tcf609Ckgf9",
        "outputId": "d5f18e29-3d17-4e37-a646-7997cacc6877"
      },
      "execution_count": null,
      "outputs": [
        {
          "name": "stdout",
          "output_type": "stream",
          "text": [
            "Digite su apellido: Lopez\n",
            "\n",
            "Desea digitar otro apellido: si\n",
            "Digite su apellido: Suarez\n",
            "\n",
            "Desea digitar otro apellido: no\n"
          ]
        }
      ]
    },
    {
      "cell_type": "code",
      "source": [
        "dirc = \"si\"\n",
        "while dirc == \"si\" or dirc == \"SI\" or dirc == \"Si\" or dirc == \"yes\":\n",
        "    dirc1 = input(\"Digite su numero direccion: \")\n",
        "    print(\" \".format(dirc))\n",
        "    dirc = input(\"Desea digitar otra direccion: \")"
      ],
      "metadata": {
        "colab": {
          "base_uri": "https://localhost:8080/"
        },
        "id": "q4RI5bqqlkLM",
        "outputId": "a6bd2384-2830-4022-ca99-4f1194a91847"
      },
      "execution_count": null,
      "outputs": [
        {
          "name": "stdout",
          "output_type": "stream",
          "text": [
            "Digite su numero direccion: calle 9 # 35-06\n",
            " \n",
            "Desea digitar otra direccion: si\n",
            "Digite su numero direccion: calle 6 #102-85\n",
            " \n",
            "Desea digitar otra direccion: no\n"
          ]
        }
      ]
    },
    {
      "cell_type": "code",
      "source": [
        "tel = \"si\"\n",
        "while tel == \"si\" or tel == \"SI\" or tel == \"Si\" or tel == \"yes\":\n",
        "    tel1 = int(input(\"Digite su numero su telefono personal: \"))\n",
        "    print(\" \".format(tel))\n",
        "    tel = input(\"Desea digitar otro numero de telefono: \")"
      ],
      "metadata": {
        "colab": {
          "base_uri": "https://localhost:8080/"
        },
        "id": "YUsiBr7dmjK8",
        "outputId": "0b92fceb-4e25-42be-bd8a-f81cb32a964c"
      },
      "execution_count": null,
      "outputs": [
        {
          "name": "stdout",
          "output_type": "stream",
          "text": [
            "Digite su numero su telefono personal: 3223054285\n",
            " \n",
            "Desea digitar otro numero de telefono: si\n",
            "Digite su numero su telefono personal: 3153229999\n",
            " \n",
            "Desea digitar otro numero de telefono: no\n"
          ]
        }
      ]
    },
    {
      "cell_type": "code",
      "source": [
        "datos = \"si\"\n",
        "while datos == \"si\" or datos == \"SI\" or datos == \"Si\" or datos == \"yes\":\n",
        "    datos1 = input(\"Digite su edad: \")\n",
        "    print(\" \".format(datos))\n",
        "    datos1 = input(\"Digite su estado civil: \")\n",
        "    print(\" \".format(datos))\n",
        "    datos1 = int(input(\"Digite su numero de hijos: \"))\n",
        "    print(\" \".format(datos))\n",
        "    datos1 = float(input(\"Digite su estatura en centimetros: \"))\n",
        "    print(\" \".format(datos))\n",
        "    datos1 = input(\"Digite la fecha de contratacion: \")\n",
        "    print(\" \".format(datos))\n",
        "    datos1 = float(input(\"Digite su sueldo basico: $ \"))\n",
        "    print(\" \".format(datos))\n",
        "    datos1 = int(input(\"Digite dias laborados: \"))\n",
        "    print(\" \".format(datos))\n",
        "    datos = input(\"Desea digitar nuevamente los datos: \")"
      ],
      "metadata": {
        "colab": {
          "base_uri": "https://localhost:8080/"
        },
        "id": "7QUeLEVknbxu",
        "outputId": "4a89b9d3-115f-4d06-92d0-17281517150e"
      },
      "execution_count": null,
      "outputs": [
        {
          "name": "stdout",
          "output_type": "stream",
          "text": [
            "Digite su edad: 25\n",
            " \n",
            "Digite su estado civil: casado\n",
            " \n",
            "Digite su numero de hijos: 0\n",
            " \n",
            "Digite su estatura en centimetros: 1.75\n",
            " \n",
            "Digite la fecha de contratacion: 25-06-2022\n",
            " \n",
            "Digite su sueldo basico: $ 1550000\n",
            " \n",
            "Digite dias laborados: 30\n",
            " \n",
            "Desea digitar nuevamente los datos: no\n"
          ]
        }
      ]
    },
    {
      "cell_type": "markdown",
      "source": [
        "**Talle 2**"
      ],
      "metadata": {
        "id": "jjmwfxsquONy"
      }
    },
    {
      "cell_type": "markdown",
      "source": [
        "1. Si el empleado es mayor de 55 años disfrutará de un bono de prepensión correspondiente al 5% de su sueldo básico."
      ],
      "metadata": {
        "id": "mI0SXH4MrkF4"
      }
    },
    {
      "cell_type": "code",
      "source": [
        "pre = \"si\"   \n",
        "while pre == \"si\" or pre == \"SI\" or pre == \"Si\" or pre == \"yes\":\n",
        " sueldo = float(input(\"¿Cuanto es el sueldo basico: $ \"))\n",
        " porct = sueldo * 0.05\n",
        " print(\"\\nEl bono de prepension es= ${:,.0f}\".format(porct))\n",
        " def edadcom(edad):\n",
        "  if edad > 55:\n",
        "    print(\"Recibe el bono de prepension: \")\n",
        "  else:\n",
        "    print(\"No recibe el bono de prepension: \")  \n",
        " edad1 = float(input(\"Digite su edad: \"))\n",
        " edadcom(edad1)\n",
        " pre =input(\"Desea realizar otra cotizacion: \")"
      ],
      "metadata": {
        "colab": {
          "base_uri": "https://localhost:8080/"
        },
        "id": "Dg-NX9wJrrxh",
        "outputId": "3b70433a-2296-4459-9f0b-681a691c3d9d"
      },
      "execution_count": 56,
      "outputs": [
        {
          "name": "stdout",
          "output_type": "stream",
          "text": [
            "¿Cuanto es el sueldo basico: $ 1160000\n",
            "\n",
            "El bono de prepension es= $58,000\n",
            "Digite su edad: 56\n",
            "Recibe el bono de prepension: \n",
            "Desea realizar otra cotizacion: si\n",
            "¿Cuanto es el sueldo basico: $ 1500000\n",
            "\n",
            "El bono de prepension es= $75,000\n",
            "Digite su edad: 45\n",
            "No recibe el bono de prepension: \n",
            "Desea realizar otra cotizacion: no\n"
          ]
        }
      ]
    },
    {
      "cell_type": "markdown",
      "source": [
        "2. Si el empleado es casado y tiene hijos se le otorgará un paseo cada diciembre"
      ],
      "metadata": {
        "id": "LZAGfxg63tpQ"
      }
    },
    {
      "cell_type": "code",
      "source": [
        "emple1 = \"si\"\n",
        "while emple1 == \"si\" or emple1 == \"SI\" or emple1 == \"Si\" or emple1 == \"yes\":\n",
        " empleado = input(\"Digite su estado civil: \")\n",
        " emple = \"casado\"\n",
        " hijos = int(input(\"Digite cuantos hijos tiene: \"))\n",
        " if empleado == emple and hijos > 0:\n",
        "  print(\"\\nGana paseo en Diciembre\")\n",
        " else:\n",
        "  print(\"\\nNo gana paseo en diciembre\")\n",
        "  emple1 = input(\"\\nDesea digitar nueva cotizacion: \")"
      ],
      "metadata": {
        "colab": {
          "base_uri": "https://localhost:8080/"
        },
        "id": "eWuQwxmG77fQ",
        "outputId": "75c4c5c6-5df1-4ccf-e118-048b15774135"
      },
      "execution_count": 55,
      "outputs": [
        {
          "name": "stdout",
          "output_type": "stream",
          "text": [
            "Digite su estado civil: casado\n",
            "Digite cuantos hijos tiene: 2\n",
            "\n",
            "Gana paseo en Diciembre\n",
            "Digite su estado civil: soltero\n",
            "Digite cuantos hijos tiene: 0\n",
            "\n",
            "No gana paseo en diciembre\n",
            "\n",
            "Desea digitar nueva cotizacion: si\n",
            "Digite su estado civil: casado\n",
            "Digite cuantos hijos tiene: 0\n",
            "\n",
            "No gana paseo en diciembre\n",
            "\n",
            "Desea digitar nueva cotizacion: no\n"
          ]
        }
      ]
    },
    {
      "cell_type": "markdown",
      "source": [
        "3. Si el sueldo básico está entre 1000000 y 1500000 tendrá una comision\n",
        "del 2% sobre el valor del sueldo; Si el sueldo básico está entre 1500001 y 2000000 tendrá una comisión del 5% sobre el valor del sueldo; para todos los demás casos no habrá comisión."
      ],
      "metadata": {
        "id": "Ef8qcB3E9NX6"
      }
    },
    {
      "cell_type": "code",
      "source": [
        "com = \"si\"\n",
        "while com == \"si\" or com == \"SI\" or com == \"Si\" or com == \"yes\":\n",
        "  sueldo = float(input(\"Digite su sueldo basico $ \"))\n",
        "  if sueldo >= 1000000 and sueldo <= 1500000:\n",
        "    porct = sueldo * 0.02\n",
        "    total = sueldo + porct\n",
        "    print(\"Recibe comision del 2%\")\n",
        "    print(\"\\nTotal comision del sueldo es= ${:,.0f} y el sueldo total seria = ${:,.0f}\".format(porct, total))\n",
        "    com = input(\"\\nDesea digitar nueva comision: \")\n",
        "  elif sueldo >= 1500001 and sueldo <= 2000000:\n",
        "    porct1 = sueldo * 0.05\n",
        "    total1 = sueldo + porct1\n",
        "    print(\"Recibe comision del 5%\")\n",
        "    print(\"\\nTotal comision del sueldo es= ${:,.0f} y el sueldo total seria = ${:,.0f}\".format(porct1, total1))\n",
        "    com = input(\"\\nDesea digitar nueva comision: \")\n",
        "  else:\n",
        "    print(\"\\nNo recibe comision\")\n",
        "    com = input(\"\\nDesea digitar nueva comision: \")"
      ],
      "metadata": {
        "colab": {
          "base_uri": "https://localhost:8080/"
        },
        "id": "PbisjvPnA8Ug",
        "outputId": "8d35abe9-df2b-431c-e256-65cfe8b7de13"
      },
      "execution_count": 76,
      "outputs": [
        {
          "name": "stdout",
          "output_type": "stream",
          "text": [
            "Digite su sueldo basico $ 1300000\n",
            "Recibe comision del 2%\n",
            "\n",
            "Total comision del sueldo es= $26,000 y el sueldo total seria = $1,326,000\n",
            "\n",
            "Desea digitar nueva comision: si\n",
            "Digite su sueldo basico $ 1250000\n",
            "Recibe comision del 2%\n",
            "\n",
            "Total comision del sueldo es= $25,000 y el sueldo total seria = $1,275,000\n",
            "\n",
            "Desea digitar nueva comision: si\n",
            "Digite su sueldo basico $ 900000\n",
            "\n",
            "No recibe comision\n",
            "\n",
            "Desea digitar nueva comision: no\n"
          ]
        }
      ]
    },
    {
      "cell_type": "markdown",
      "source": [
        "4. Si el empleado trabajó más de 20 días al mes y su sueldo es menor a 1000000 tendrá derecho a un bono de alimentación"
      ],
      "metadata": {
        "id": "XzSDw1BsCrS6"
      }
    },
    {
      "cell_type": "code",
      "source": [
        "mes = \"si\"   \n",
        "while mes == \"si\" or mes == \"SI\" or mes == \"Si\" or mes == \"yes\":\n",
        "  def mes1(dias1):\n",
        "   if dias > 20:\n",
        "      print(\"\\nDerecho al bono alimentario\")\n",
        "   elif dias < 21:\n",
        "      print(\"\\nNo recibe bono alimentario\")\n",
        "   elif sueldo < 1000000:\n",
        "      print(\"\\nDerecho al bono alimentario\")\n",
        "   else:\n",
        "      print(\"\\nNo recibe bono alimentario\")\n",
        "  dias = int(input(\"\\nDigite los dias trabajados en el mes: \"))\n",
        "  sueldo = float(input(\"\\nDigite total sueldo mes: $ \"))\n",
        "  mes2 = mes1(dias + sueldo)\n",
        "  print(\" \".format(mes2))\n",
        "  mes = input(\"\\nDesea digitar una nueva cotizacion: \")"
      ],
      "metadata": {
        "colab": {
          "base_uri": "https://localhost:8080/"
        },
        "id": "PmC1xCRkCx-Y",
        "outputId": "1e49a470-0aa4-41ed-e15a-41bca30c320a"
      },
      "execution_count": 102,
      "outputs": [
        {
          "name": "stdout",
          "output_type": "stream",
          "text": [
            "\n",
            "Digite los dias trabajados en el mes: 21\n",
            "\n",
            "Digite total sueldo mes: $ 900000\n",
            "\n",
            "Derecho al bono alimentario\n",
            " \n",
            "\n",
            "Desea digitar una nueva cotizacion: si\n",
            "\n",
            "Digite los dias trabajados en el mes: 20\n",
            "\n",
            "Digite total sueldo mes: $ 1000000\n",
            "\n",
            "No recibe bono alimentario\n",
            " \n",
            "\n",
            "Desea digitar una nueva cotizacion: no\n"
          ]
        }
      ]
    }
  ]
}