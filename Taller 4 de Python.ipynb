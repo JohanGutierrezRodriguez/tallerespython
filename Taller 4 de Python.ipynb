{
  "nbformat": 4,
  "nbformat_minor": 0,
  "metadata": {
    "colab": {
      "provenance": []
    },
    "kernelspec": {
      "name": "python3",
      "display_name": "Python 3"
    },
    "language_info": {
      "name": "python"
    }
  },
  "cells": [
    {
      "cell_type": "markdown",
      "source": [
        "**Taller Profundización Ejercicios:**"
      ],
      "metadata": {
        "id": "I_ncCQwhVa70"
      }
    },
    {
      "cell_type": "markdown",
      "source": [
        "1. Crear un bucle que cuente todos los números pares hasta\n",
        "el 100 ciclo for"
      ],
      "metadata": {
        "id": "aP6rIrq1VoMy"
      }
    },
    {
      "cell_type": "code",
      "source": [
        "print(\"Numeros pares del 0 hasta el 100: \\n\") \n",
        "for i in range(0,101,2):\n",
        "  print(i,end=\",\")"
      ],
      "metadata": {
        "colab": {
          "base_uri": "https://localhost:8080/"
        },
        "id": "3rcmNWO5OGxM",
        "outputId": "9ca63f5d-86f1-453a-92ed-db4dd7571b10"
      },
      "execution_count": 55,
      "outputs": [
        {
          "output_type": "stream",
          "name": "stdout",
          "text": [
            "Numeros pares del 0 hasta el 100: \n",
            "\n",
            "0,2,4,6,8,10,12,14,16,18,20,22,24,26,28,30,32,34,36,38,40,42,44,46,48,50,52,54,56,58,60,62,64,66,68,70,72,74,76,78,80,82,84,86,88,90,92,94,96,98,100,"
          ]
        }
      ]
    },
    {
      "cell_type": "markdown",
      "source": [
        "2. Haz una tabla de multiplicar utilizando el ciclo for\n",
        "ciclo for"
      ],
      "metadata": {
        "id": "QJWLJT6qZ5ol"
      }
    },
    {
      "cell_type": "code",
      "source": [
        "num = int(input(\"Digite el número de la tabla de multiplicar: \\n\"))\n",
        "\n",
        "for i in range(21):\n",
        "  print(i, \" x \", num, \" = \",  i * num)"
      ],
      "metadata": {
        "colab": {
          "base_uri": "https://localhost:8080/"
        },
        "id": "ym7EVjYobe8o",
        "outputId": "0327ee88-c332-4f4a-f50a-78867ec341bd"
      },
      "execution_count": 26,
      "outputs": [
        {
          "output_type": "stream",
          "name": "stdout",
          "text": [
            "Digite el número de la tabla de multiplicar: \n",
            "9\n",
            "0  x  9  =  0\n",
            "1  x  9  =  9\n",
            "2  x  9  =  18\n",
            "3  x  9  =  27\n",
            "4  x  9  =  36\n",
            "5  x  9  =  45\n",
            "6  x  9  =  54\n",
            "7  x  9  =  63\n",
            "8  x  9  =  72\n",
            "9  x  9  =  81\n",
            "10  x  9  =  90\n",
            "11  x  9  =  99\n",
            "12  x  9  =  108\n",
            "13  x  9  =  117\n",
            "14  x  9  =  126\n",
            "15  x  9  =  135\n",
            "16  x  9  =  144\n",
            "17  x  9  =  153\n",
            "18  x  9  =  162\n",
            "19  x  9  =  171\n",
            "20  x  9  =  180\n"
          ]
        }
      ]
    },
    {
      "cell_type": "code",
      "source": [
        "for i in range(11):\n",
        "  print(i, \" x \", 5, \" = \",  i * 5 )"
      ],
      "metadata": {
        "colab": {
          "base_uri": "https://localhost:8080/"
        },
        "id": "MLbSH9TtcHcC",
        "outputId": "16993672-aea0-4d84-c0b3-c06c0351ccc7"
      },
      "execution_count": 22,
      "outputs": [
        {
          "output_type": "stream",
          "name": "stdout",
          "text": [
            "0  x  5  =  0\n",
            "1  x  5  =  5\n",
            "2  x  5  =  10\n",
            "3  x  5  =  15\n",
            "4  x  5  =  20\n",
            "5  x  5  =  25\n",
            "6  x  5  =  30\n",
            "7  x  5  =  35\n",
            "8  x  5  =  40\n",
            "9  x  5  =  45\n",
            "10  x  5  =  50\n"
          ]
        }
      ]
    },
    {
      "cell_type": "markdown",
      "source": [
        "3. Escribir un programa que pregunte al usuario su edad y\n",
        "muestre por pantalla todos los años que ha cumplido\n",
        "(desde 1 hasta su edad). ciclo for"
      ],
      "metadata": {
        "id": "DtyughSJdVr5"
      }
    },
    {
      "cell_type": "code",
      "source": [
        "edad = int(input(\"Digite su edad: \\n\"))\n",
        "for i in range(edad): \n",
        " print(\"Tiene\",i +1, \"años\")"
      ],
      "metadata": {
        "colab": {
          "base_uri": "https://localhost:8080/"
        },
        "id": "USZCdgLudX16",
        "outputId": "ef7e23d4-95a5-4ac5-d024-5e7e4221b472"
      },
      "execution_count": 34,
      "outputs": [
        {
          "output_type": "stream",
          "name": "stdout",
          "text": [
            "Digite su edad: \n",
            "18\n",
            "Tiene 1 años\n",
            "Tiene 2 años\n",
            "Tiene 3 años\n",
            "Tiene 4 años\n",
            "Tiene 5 años\n",
            "Tiene 6 años\n",
            "Tiene 7 años\n",
            "Tiene 8 años\n",
            "Tiene 9 años\n",
            "Tiene 10 años\n",
            "Tiene 11 años\n",
            "Tiene 12 años\n",
            "Tiene 13 años\n",
            "Tiene 14 años\n",
            "Tiene 15 años\n",
            "Tiene 16 años\n",
            "Tiene 17 años\n",
            "Tiene 18 años\n"
          ]
        }
      ]
    },
    {
      "cell_type": "markdown",
      "source": [
        "4. Escribir un programa que pida al usuario un número entero\n",
        "positivo y muestre por pantalla todos los números\n",
        "impares desde 1 hasta ese número separados por comas.\n"
      ],
      "metadata": {
        "id": "PkP7UQ98kBoh"
      }
    },
    {
      "cell_type": "code",
      "source": [
        "num = int(input(\"Digite un numero entero positivo: \\n\"))\n",
        "for i in range(1,num,2):\n",
        "  print(i,end=\",\")"
      ],
      "metadata": {
        "colab": {
          "base_uri": "https://localhost:8080/"
        },
        "id": "ooK4buuGkTHc",
        "outputId": "695adff1-da6a-4e51-81cf-92e3e19c2dc7"
      },
      "execution_count": 69,
      "outputs": [
        {
          "output_type": "stream",
          "name": "stdout",
          "text": [
            "Digite un numero entero positivo: \n",
            "40\n",
            "1,3,5,7,9,11,13,15,17,19,21,23,25,27,29,31,33,35,37,39,"
          ]
        }
      ]
    },
    {
      "cell_type": "markdown",
      "source": [
        "5. Encuentra la suma de todos los números pares del 1 al\n",
        "100 ciclo for"
      ],
      "metadata": {
        "id": "c7ORFvkooqUZ"
      }
    },
    {
      "cell_type": "code",
      "source": [
        "# variables acumuladoras\n",
        "sum = 0\n",
        "for i in range(0,101,2):\n",
        "  sum = sum + i\n",
        "print(\"\\nEl total de la suma de los número pares del 1 al 100= {}\".format(sum))"
      ],
      "metadata": {
        "colab": {
          "base_uri": "https://localhost:8080/"
        },
        "id": "za2e-ocgP4rK",
        "outputId": "f53c503d-e2e0-4e19-c4ee-4a6dd1928ce5"
      },
      "execution_count": 67,
      "outputs": [
        {
          "output_type": "stream",
          "name": "stdout",
          "text": [
            "\n",
            "El total de la suma de los número pares del 1 al 100= 2550\n"
          ]
        }
      ]
    }
  ]
}